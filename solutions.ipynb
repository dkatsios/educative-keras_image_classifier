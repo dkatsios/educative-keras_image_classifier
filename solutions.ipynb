{
 "cells": [
  {
   "cell_type": "markdown",
   "metadata": {},
   "source": [
    "# Deep Learning: Image Classification Using Keras"
   ]
  },
  {
   "cell_type": "markdown",
   "metadata": {},
   "source": [
    "### Task 1: Import Packages"
   ]
  },
  {
   "cell_type": "code",
   "execution_count": null,
   "metadata": {},
   "outputs": [],
   "source": [
    "import os\n",
    "import glob\n",
    "import random\n",
    "import matplotlib.pyplot as plt\n",
    "import tensorflow as tf\n",
    "from tensorflow import keras\n",
    "import keras_cv"
   ]
  },
  {
   "cell_type": "markdown",
   "metadata": {},
   "source": [
    "### Task 2: Explore Directories Structure"
   ]
  },
  {
   "cell_type": "code",
   "execution_count": null,
   "metadata": {},
   "outputs": [],
   "source": [
    "IMAGES_DIR = \"data/images/\"\n",
    "\n",
    "dir_names = os.listdir(IMAGES_DIR)\n",
    "img_paths_dict = dict()\n",
    "for dir_name in dir_names:\n",
    "    img_paths_dict[dir_name] = glob.glob(f\"{IMAGES_DIR}{dir_name}/*\")\n",
    "\n",
    "for dir_name, file_paths in img_paths_dict.items():\n",
    "    print(dir_name, len(file_paths))\n",
    "    for file_path in file_paths[:5]:\n",
    "        print(file_path)"
   ]
  },
  {
   "cell_type": "markdown",
   "metadata": {},
   "source": [
    "### Task 3: Visualize Image Data"
   ]
  },
  {
   "cell_type": "code",
   "execution_count": null,
   "metadata": {},
   "outputs": [],
   "source": [
    "for dir_name, file_paths in img_paths_dict.items():\n",
    "    print(dir_name)\n",
    "    for file_path in file_paths[:5]:\n",
    "        image = plt.imread(file_path)\n",
    "        plt.imshow(image)\n",
    "        plt.show()"
   ]
  },
  {
   "cell_type": "markdown",
   "metadata": {},
   "source": [
    "### Task 4: Create a Data Loader"
   ]
  },
  {
   "cell_type": "code",
   "execution_count": null,
   "metadata": {},
   "outputs": [],
   "source": [
    "dataset = keras.utils.image_dataset_from_directory(\n",
    "    IMAGES_DIR, image_size=(128, 128), label_mode=\"categorical\"\n",
    ")"
   ]
  },
  {
   "cell_type": "markdown",
   "metadata": {},
   "source": [
    "### Task 5: Inspect Dataset Output"
   ]
  },
  {
   "cell_type": "code",
   "execution_count": null,
   "metadata": {},
   "outputs": [],
   "source": [
    "images, labels = next(iter(dataset))\n",
    "\n",
    "print(f\"type: {type(images)}\")\n",
    "print(f\"dtype: {images.dtype}\")\n",
    "print(f\"shape: {images.shape}\")\n",
    "\n",
    "print(dataset.class_names[tf.math.argmax(labels[0])])\n",
    "plt.imshow(images[0].numpy().astype(\"uint8\"))\n",
    "plt.show()"
   ]
  },
  {
   "cell_type": "markdown",
   "metadata": {},
   "source": [
    "### Task 6: Create Train and Validation Datasets"
   ]
  },
  {
   "cell_type": "code",
   "execution_count": null,
   "metadata": {},
   "outputs": [],
   "source": [
    "train_ds = keras.utils.image_dataset_from_directory(\n",
    "    IMAGES_DIR,\n",
    "    image_size=(128, 128),\n",
    "    validation_split=0.2,\n",
    "    subset=\"training\",\n",
    "    label_mode=\"categorical\",\n",
    "    seed=0,\n",
    ")\n",
    "valid_ds = keras.utils.image_dataset_from_directory(\n",
    "    IMAGES_DIR,\n",
    "    image_size=(128, 128),\n",
    "    validation_split=0.2,\n",
    "    subset=\"validation\",\n",
    "    label_mode=\"categorical\",\n",
    "    seed=0,\n",
    ")"
   ]
  },
  {
   "cell_type": "markdown",
   "metadata": {},
   "source": [
    "### Task 7: Create the Model"
   ]
  },
  {
   "cell_type": "code",
   "execution_count": null,
   "metadata": {},
   "outputs": [],
   "source": [
    "backbone = keras_cv.models.EfficientNetV2Backbone.from_preset(\"efficientnetv2_b0_imagenet\")\n",
    "\n",
    "model = keras_cv.models.ImageClassifier(\n",
    "    backbone=backbone,\n",
    "    num_classes=3,\n",
    "    activation=\"softmax\",\n",
    ")"
   ]
  },
  {
   "cell_type": "markdown",
   "metadata": {},
   "source": [
    "### Task 8: Define Loss and Metrics"
   ]
  },
  {
   "cell_type": "code",
   "execution_count": null,
   "metadata": {},
   "outputs": [],
   "source": [
    "loss = keras.losses.CategoricalCrossentropy()\n",
    "metric = keras.metrics.CategoricalAccuracy()"
   ]
  },
  {
   "cell_type": "markdown",
   "metadata": {},
   "source": [
    "### Task 9: Compile the Model"
   ]
  },
  {
   "cell_type": "code",
   "execution_count": null,
   "metadata": {},
   "outputs": [],
   "source": [
    "model.compile(loss=loss, metrics=metric)"
   ]
  },
  {
   "cell_type": "markdown",
   "metadata": {},
   "source": [
    "### Task 10: Train the Model"
   ]
  },
  {
   "cell_type": "code",
   "execution_count": null,
   "metadata": {},
   "outputs": [],
   "source": [
    "model.fit(train_ds, validation_data=valid_ds, epochs=2)"
   ]
  },
  {
   "cell_type": "markdown",
   "metadata": {},
   "source": [
    "### Task 11: Evaluate the Model"
   ]
  },
  {
   "cell_type": "code",
   "execution_count": null,
   "metadata": {},
   "outputs": [],
   "source": [
    "loss, acc = model.evaluate(valid_ds, verbose=False)\n",
    "print(f\"{loss=:.3}, {acc=:.3}\")"
   ]
  },
  {
   "cell_type": "markdown",
   "metadata": {},
   "source": [
    "### Task 12: Use Model on New Images"
   ]
  },
  {
   "cell_type": "code",
   "execution_count": null,
   "metadata": {},
   "outputs": [],
   "source": [
    "image_paths = glob.glob(f\"{IMAGES_DIR}/*/*\")\n",
    "image = plt.imread(random.choice(image_paths))\n",
    "\n",
    "predictions = model.predict(image[None, ...], verbose=False)[0]\n",
    "pred_cls = valid_ds.class_names[predictions.argmax()]\n",
    "\n",
    "print(pred_cls)\n",
    "plt.imshow(image)\n",
    "plt.show()"
   ]
  }
 ],
 "metadata": {
  "kernelspec": {
   "display_name": "env",
   "language": "python",
   "name": "python3"
  },
  "language_info": {
   "codemirror_mode": {
    "name": "ipython",
    "version": 3
   },
   "file_extension": ".py",
   "mimetype": "text/x-python",
   "name": "python",
   "nbconvert_exporter": "python",
   "pygments_lexer": "ipython3",
   "version": "3.11.1"
  }
 },
 "nbformat": 4,
 "nbformat_minor": 2
}
